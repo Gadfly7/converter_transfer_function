{
 "cells": [
  {
   "cell_type": "code",
   "execution_count": 44,
   "metadata": {},
   "outputs": [],
   "source": [
    "# Ref\n",
    "# Python control code\n",
    "# https://jckantor.github.io/CBE30338/05.03-Creating-Bode-Plots.html\n",
    "# Buck converter related equations\n",
    "# https://www.bilibili.com/video/BV12E41177wW?share_source=copy_web\n",
    "import numpy as np\n",
    "from decimal import Decimal\n",
    "import matplotlib.pyplot as plt\n",
    "\n",
    "import pylab as pl\n",
    "\n",
    "\n",
    "from scipy import signal\n",
    "import control\n",
    "\n",
    "def Buck_Gvd(L,C,Vg,D,R):\n",
    "    \"\"\"\n",
    "    This function defines the transfer function between \n",
    "    the control variable D and the output voltage V\n",
    "    Input@ L  inductance in H\n",
    "    Input@ C  output capacitance in F\n",
    "    Input@ Vg input voltage in Volt\n",
    "    Input@ D  duty ratio \n",
    "    Input@ R  output resistance in ohm\n",
    "    Output@sys is the transfer function Gvd\n",
    "                                L\n",
    "                    1 -    ---------- *s\n",
    "             Vg            (R * D'^2)\n",
    "    Gvd(s) = --   * ---------------------------------\n",
    "             D'^2           L             L * C\n",
    "                    1 + ---------- * s + ------ * s^2\n",
    "                        (R * D'^2)         D'^2\n",
    "    \"\"\"\n",
    "    D_prime = 1 - D\n",
    "    D_prime_square = np.square(1-D)\n",
    "    as1 = (Vg/D_prime_square)*(-1*L/(R*D_prime_square))\n",
    "    as0 = (Vg/D_prime_square)\n",
    "    bs2 = L*C/D_prime_square\n",
    "    bs1 = L/R*D_prime_square\n",
    "    bs0 = 1\n",
    "    sys = control.tf([as1, as0], [bs2, bs1, bs0])\n",
    "    return sys\n",
    "\n",
    "def Buck_Gid(L,C,Vo,D,R):\n",
    "    \"\"\"\n",
    "    This function defines the transfer function between \n",
    "    the control variable D and the inductor current IL\n",
    "    Input@ L  inductance in H\n",
    "    Input@ C  output capacitance in F\n",
    "    Input@ Vo output voltage in Volt\n",
    "    Input@ D  duty ratio \n",
    "    Input@ R  output resistance in ohm\n",
    "    Output@sys is the transfer function Gid\n",
    "                             2*Vo\n",
    "                 - Vo*C*s  - ----\n",
    "                              R\n",
    "    Gid(s) =  -----------------------------\n",
    "                      L            \n",
    "              D'^2 + --- * s + L * C * s^2\n",
    "                      R        \n",
    "    \"\"\"\n",
    "    D_prime = 1 - D\n",
    "    D_prime_square = np.square(1-D)\n",
    "    as1 = (-Vo*C)\n",
    "    as0 = (-2*Vo/R)\n",
    "    bs2 = L*C\n",
    "    bs1 = L/R\n",
    "    bs0 = D_prime_square\n",
    "    sys = control.tf([as1, as0], [bs2, bs1, bs0])\n",
    "    return sys\n",
    "\n",
    "def Buck_Gvi(L,C,D,R):\n",
    "    \"\"\"\n",
    "    This function defines the transfer function between \n",
    "    the inductor current IL and the output voltage vo\n",
    "    Input@ L  inductance in H\n",
    "    Input@ C  output capacitance in F\n",
    "    Input@ D  duty ratio \n",
    "    Input@ R  output resistance in ohm\n",
    "    Output@sys is the transfer function Gvi\n",
    "    \n",
    "                 - L*s  - D'^2 * R\n",
    "    Gvi(s) =  -----------------------------           \n",
    "             - D'^2 * R * C * s - 2 * D'^2     \n",
    "    \"\"\"\n",
    "    D_prime = 1 - D\n",
    "    D_prime_square = np.square(1-D)\n",
    "    as1 = (-L)\n",
    "    as0 = (-D_prime_square * R)\n",
    "    bs1 = D_prime_square * R * C\n",
    "    bs0 = 2 * D_prime_square\n",
    "    sys = control.tf([as1, as0], [bs1, bs0])\n",
    "    return sys\n",
    "\n",
    "def Buck_Gi(Kip, Kii):\n",
    "    \"\"\"\n",
    "    This function defines the transfer function of \n",
    "    the current control loop\n",
    "    Input@ Kip proportional gain\n",
    "    Input@ Kii intergation gain\n",
    "    Output@sys is the transfer function Gi\n",
    "                 Kip * s + Kii\n",
    "    Gvi(s) =  ---------------------         \n",
    "                       s     \n",
    "    \"\"\"\n",
    "    as1 = Kip\n",
    "    as0 = Kii\n",
    "    bs1 = 1\n",
    "    bs0 = 0\n",
    "    sys = control.tf([as1, as0], [bs1, bs0])\n",
    "    return sys"
   ]
  },
  {
   "cell_type": "code",
   "execution_count": 45,
   "metadata": {},
   "outputs": [
    {
     "name": "stdout",
     "output_type": "stream",
     "text": [
      "Crossover freq =  10.0  rad/sec\n",
      "Gain at crossover =  0.03420235567628716\n"
     ]
    },
    {
     "data": {
      "text/plain": [
       "Text(0.5, 1.0, 'Crossover Frequency = 10 rad/sec')"
      ]
     },
     "execution_count": 45,
     "metadata": {},
     "output_type": "execute_result"
    },
    {
     "data": {
      "image/png": "[encoded data removed]",
      "text/plain": [
       "<Figure size 432x288 with 2 Axes>"
      ]
     },
     "metadata": {
      "needs_background": "light"
     },
     "output_type": "display_data"
    }
   ],
   "source": [
    "sys = signal.TransferFunction([1], [1, 1])\n",
    "sys = Buck_Gvd(1e-5, 100e-6, 10, 0.3, 2)\n",
    "mag,phase,omega = control.bode(Gp,w);\n",
    "plt.tight_layout()\n",
    "#ax1,ax2 = plt.gcf().axes     # get subplot axes\n",
    "\n",
    "# find the cross-over frequency and gain at cross-over\n",
    "wc = np.interp(-180.0,np.flipud(phase),np.flipud(omega))\n",
    "Kcu = np.interp(wc,omega,mag)\n",
    "\n",
    "print('Crossover freq = ', wc, ' rad/sec')\n",
    "print('Gain at crossover = ', Kcu)\n",
    "\n",
    "\n",
    "plt.sca(ax1)                 # magnitude plot\n",
    "plt.plot(plt.xlim(),[Kcu,Kcu],'r--')\n",
    "plt.plot([wc,wc],plt.ylim(),'r--')\n",
    "plt.title(\"Gain at Crossover = {0:.3g}\".format(Kcu))\n",
    "\n",
    "plt.sca(ax2)                 # phase plot\n",
    "plt.plot(plt.xlim(),[-180,-180],'r--')\n",
    "plt.plot([wc,wc],plt.ylim(),'r--')\n",
    "plt.title(\"Crossover Frequency = {0:.3g} rad/sec\".format(wc))\n",
    "#sys = Buck_Gid(1e-5, 100e-6, 10, 0.3, 2)\n",
    "#sys = Buck_Gvi(1e-5, 100e-6, 0.3, 2)\n",
    "#sys = Buck_Gi(1e-5, 1e-6)\n",
    "\n",
    "#w, mag, phase = signal.bode(sys)\n",
    "#plt.figure()\n",
    "#plt.semilogx(w, mag)    # Bode magnitude plot\n",
    "#plt.figure()\n",
    "#plt.semilogx(w, phase)  # Bode phase plot\n",
    "#plt.show()"
   ]
  },
  {
   "cell_type": "code",
   "execution_count": 43,
   "metadata": {},
   "outputs": [],
   "source": [
    "# help(Buck_Gvd)"
   ]
  },
  {
   "cell_type": "code",
   "execution_count": null,
   "metadata": {},
   "outputs": [],
   "source": []
  }
 ],
 "metadata": {
  "kernelspec": {
   "display_name": "Python 3",
   "language": "python",
   "name": "python3"
  },
  "language_info": {
   "codemirror_mode": {
    "name": "ipython",
    "version": 3
   },
   "file_extension": ".py",
   "mimetype": "text/x-python",
   "name": "python",
   "nbconvert_exporter": "python",
   "pygments_lexer": "ipython3",
   "version": "3.8.5"
  }
 },
 "nbformat": 4,
 "nbformat_minor": 4
}
